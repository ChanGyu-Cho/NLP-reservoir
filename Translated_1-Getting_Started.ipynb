{
 "cells": [
  {
   "cell_type": "markdown",
   "id": "80630c09",
   "metadata": {},
   "source": [
    "# Getting Started\n",
    "\n",
    "ReservoirPy에 오신 것을 환영합니다!\n",
    "\n",
    "\n",
    "ReservoirPy는 Echo State Networks(ESNs)와 같은 Reservoir Computing(RC) 아키텍처를 쉽게 정의하고 학습하며 사용할 수 있도록 설계된 Python 도구입니다.\n",
    "\n",
    "이 튜토리얼에서는 몇 줄의 코드로 ESN을 생성하고, 순차 데이터 또는 시계열 데이터를 사용하여 학습시키고, 예측을 수행하는 방법을 배우게 됩니다. You will also learn more about ReservoirPy API, explained in more details in [this part of the documentation](https://reservoirpy.readthedocs.io/en/latest/user_guide/node.html).\n",
    "\n",
    "Once you have completed this tutorial, you can check the others and learn more about online learning rules, custom weight matrices, hyperparameters and how to choose them, and how to build complex architectures."
   ]
  },
  {
   "cell_type": "code",
   "execution_count": null,
   "id": "381c9018",
   "metadata": {},
   "outputs": [],
   "source": [
    "import reservoirpy as rpy\n",
    "\n",
    "rpy.verbosity(0)  # no need to be too verbose here\n",
    "rpy.set_seed(42)  # make everything reproducible!"
   ]
  },
  {
   "cell_type": "markdown",
   "id": "28d0118d",
   "metadata": {},
   "source": [
    "## A note on data formats\n",
    "\n",
    "In ReservoirPy, **all data are stored in Numpy arrays**. It includes parameters of ReservoirPy Nodes and their input data. ReservoirPy uses only Numpy and Scipy for all computations.\n",
    "\n",
    "All timeseries, from input data to reservoir's activations, are formatted the same way: they must be Numpy arrays of shape $(timesteps, features)$. For instance, a timeseries composed of two variables samples over 100 timesteps would be stored in an array of shape $(100, 2)$. Single timesteps must also comply to this convention. A single timestep of the same 2-dimensional timeseries would be an array of shape $(1, 2)$. **Make sure to always comply with this formatting** otherwise you might obtain unexpected results, or raise an error.\n",
    "\n",
    "When training or running over several independent timeseries, for instance using several audio signals or several sine wave at different frequency, an accepted shape may be $(series, timesteps, features)$. In that case, input data may be an array where all series have the same length $timesteps$, or a list of arrays storing timeseries of different lengths."
   ]
  },
  {
   "cell_type": "markdown",
   "id": "a3f594c5",
   "metadata": {},
   "source": [
    "## Create your first Echo State Network\n",
    "\n",
    "Echo State Networks (ESNs) are one of the simplest recurrent neural network architecture RC has to offer. They are built using two components: a **reservoir** and a **readout**.\n",
    "\n",
    "The **reservoir** is a pool of artificial rate neurons randomly connected to their inputs and to themselves. Therefore, they are a genuine recurrent neural network similar to those which can be found in the field of machine learning in general. However, **none of the connections inside the reservoir are trained**. They are randomly initialized following several hyperparameters.\n",
    "\n",
    "The random high dimensional activation vector of the reservoir is then fed to the **readout**, a single layer of neurons in charge with decoding the reservoir activations in order to perform a task. The connections between the readout and the reservoir are the only **learned** connections in an ESN. In consequence, there is no need for complicated learning algorithm such as back-propagation of error to train them: a simple linear regression such as a regularized ridge regression can make it.\n",
    "\n",
    "Activations of the readout might also be fed back to the reservoir. This is called a **feedback** connection. This is an optional feature that can help tame the reservoir neurons activities.\n",
    "\n",
    "The figure below summarizes what an ESN looks like. Connections between neurons are stored as Numpy arrays or Scipy sparse matrices. These connection weights are here represented as colored arrows. $W_{in}$ and $W$ are the inputs-to-reservoir and recurrent connections. $W_{out}$ represents the trained output weights of the readout. $W_{fb}$ represents the additional connections feeding the readout outputs back to the reservoir. \n",
    "\n",
    "![An ESN.](./static/esn.svg)\n",
    "\n",
    "In ReservoirPy, an ESN is the association of two components: a reservoir Node and a readout Node, connected together. In this example, the reservoir will be created using the `Reservoir` class, and the readout using a `Ridge` node, able to perform regularized linear regression on the reservoir's activations $x$.\n",
    "\n",
    "![An ESN in ReservoirPy](./static/esn_nodes.svg)"
   ]
  },
  {
   "cell_type": "markdown",
   "id": "98e5b31b",
   "metadata": {},
   "source": [
    "## Create a Reservoir\n",
    "\n",
    "We will first create a reservoir for our ESN, with 100 neurons. Reservoirs can be created using the `Reservoir` class.\n",
    "\n",
    "We change the value of two hyperparameters:\n",
    "- `lr`: the *leaking rate*, which controls the time constant of the neurons;\n",
    "- `sr`: the *spectral radius* of the recurrent connections in the reservoir. It controls the chaoticity of the reservoir dynamics.\n",
    "\n",
    "You can find all parameters and hyperparameters in [the `Reservoir` class documentation](https://reservoirpy.readthedocs.io/en/latest/api/generated/reservoirpy.nodes.Reservoir.html)."
   ]
  },
  {
   "cell_type": "code",
   "execution_count": null,
   "id": "860be55d",
   "metadata": {},
   "outputs": [],
   "source": [
    "from reservoirpy.nodes import Reservoir\n",
    "\n",
    "reservoir = Reservoir(100, lr=0.5, sr=0.9)"
   ]
  },
  {
   "cell_type": "markdown",
   "id": "b57c4228",
   "metadata": {},
   "source": [
    "## Initialize and run the reservoir"
   ]
  },
  {
   "cell_type": "markdown",
   "id": "b23c762d",
   "metadata": {},
   "source": [
    "This reservoir is empty for the moment: its parameters are not initialized yet. To start using the reservoir right now, you can run it on a timeseries, or use its `initialize()` method. Note that this method requires you to provide some samples of data, to infer the dimensions of some of the reservoir parameters, or to specify the input dimension of the reservoir at creation using the `input_dim` parameter. \n",
    "\n",
    "For now, let's run the reservoir on some data to visualize its activation.\n",
    "\n",
    "We will start by using an univariate timeseries as input to the reservoir, 100 discrete timesteps sampled from a sine wave for instance. This sine wave is stored in a Numpy array of shape $(100, 1)$."
   ]
  },
  {
   "cell_type": "code",
   "execution_count": null,
   "id": "7c9ef79b",
   "metadata": {},
   "outputs": [],
   "source": [
    "import numpy as np\n",
    "import matplotlib.pyplot as plt\n",
    "\n",
    "X = np.sin(np.linspace(0, 6*np.pi, 100)).reshape(-1, 1)\n",
    "\n",
    "plt.figure(figsize=(10, 3))\n",
    "plt.title(\"A sine wave.\")\n",
    "plt.ylabel(\"$sin(t)$\")\n",
    "plt.xlabel(\"$t$\")\n",
    "plt.plot(X)\n",
    "plt.show()"
   ]
  },
  {
   "cell_type": "markdown",
   "id": "6575af3a",
   "metadata": {},
   "source": [
    "### Call on a single timestep\n",
    "\n",
    "All ReservoirPy nodes such as `Reservoir`, can run over single timesteps of data or complete timeseries.\n",
    "\n",
    "To run a node on a single timestep of data, use the call method:"
   ]
  },
  {
   "cell_type": "code",
   "execution_count": null,
   "id": "1a3be566",
   "metadata": {},
   "outputs": [],
   "source": [
    "s = reservoir(X[0].reshape(1, -1))\n",
    "\n",
    "print(\"New state vector shape: \", s.shape)"
   ]
  },
  {
   "cell_type": "markdown",
   "id": "32c0380c",
   "metadata": {},
   "source": [
    "This has triggered the reservoir neurons on a single timestep of timeseries $X$.\n",
    "\n",
    "Triggering a node on data not only returns the activations of that node, it also store this activation into the node internal state. This state can be accessed anytime using the `state()` method:"
   ]
  },
  {
   "cell_type": "code",
   "execution_count": null,
   "id": "0adf6f62",
   "metadata": {},
   "outputs": [],
   "source": [
    "s = reservoir.state()"
   ]
  },
  {
   "cell_type": "markdown",
   "id": "5bbe848d",
   "metadata": {},
   "source": [
    "This internal state is initialized to a null vector by default, and **will be updated every time you call the node on some data.** We can for instance perform successive calls to the reservoir to gather its activations of the whole timeseries: "
   ]
  },
  {
   "cell_type": "code",
   "execution_count": null,
   "id": "939dfb4a",
   "metadata": {},
   "outputs": [],
   "source": [
    "states = np.empty((len(X), reservoir.output_dim))\n",
    "for i in range(len(X)):\n",
    "    states[i] = reservoir(X[i].reshape(1, -1))"
   ]
  },
  {
   "cell_type": "markdown",
   "id": "8027ef42",
   "metadata": {},
   "source": [
    "In the figure below, **we have plotted the activation of 20 neurons in the reservoir for every point of the timeseries**. Because the reservoir is a recurrent neural network, this state evolves in time following the evolution of the input timeseries."
   ]
  },
  {
   "cell_type": "code",
   "execution_count": null,
   "id": "6a297d7a",
   "metadata": {},
   "outputs": [],
   "source": [
    "plt.figure(figsize=(10, 3))\n",
    "plt.title(\"Activation of 20 reservoir neurons.\")\n",
    "plt.ylabel(\"$reservoir(sin(t))$\")\n",
    "plt.xlabel(\"$t$\")\n",
    "plt.plot(states[:, :20])\n",
    "plt.show()"
   ]
  },
  {
   "cell_type": "markdown",
   "id": "46919b92",
   "metadata": {},
   "source": [
    "### Run over a whole timeseries\n",
    "\n",
    "Gathering the activations of a node over a timeseries can be done without using a for-loop with the `run()` method.\n",
    "This method takes arrays of shape $(timesteps, features)$ as input and returns an array of shape $(timesteps, states)$."
   ]
  },
  {
   "cell_type": "code",
   "execution_count": null,
   "id": "80ad8d01",
   "metadata": {},
   "outputs": [],
   "source": [
    "states = reservoir.run(X)"
   ]
  },
  {
   "cell_type": "markdown",
   "id": "e2163f52",
   "metadata": {},
   "source": [
    "## Reset or modify reservoir state\n",
    "\n",
    "A node state can then be reset to a null vector to wash out its internal memory using the `reset()` method."
   ]
  },
  {
   "cell_type": "code",
   "execution_count": null,
   "id": "0aa33832",
   "metadata": {},
   "outputs": [],
   "source": [
    "reservoir = reservoir.reset()"
   ]
  },
  {
   "cell_type": "markdown",
   "id": "610f8efc",
   "metadata": {},
   "source": [
    "It is also possible to reset the state of a node when using the call or the `run()` method, setting the `reset` parameter to `True`:"
   ]
  },
  {
   "cell_type": "code",
   "execution_count": null,
   "id": "9db11f61",
   "metadata": {},
   "outputs": [],
   "source": [
    "states_from_null = reservoir.run(X, reset=True)"
   ]
  },
  {
   "cell_type": "markdown",
   "id": "95721c8d",
   "metadata": {},
   "source": [
    "States can also be fed to a node anytime using the `from_state` parameter of these methods. This allow for instance to reset a reservoir to a previous \"memory state\", or to a random one like in the code below:"
   ]
  },
  {
   "cell_type": "code",
   "execution_count": null,
   "id": "33d12844",
   "metadata": {},
   "outputs": [],
   "source": [
    "a_state_vector = np.random.uniform(-1, 1, size=(1, reservoir.output_dim))\n",
    "\n",
    "states_from_a_starting_state = reservoir.run(X, from_state=a_state_vector)"
   ]
  },
  {
   "cell_type": "markdown",
   "id": "ef64bcd0",
   "metadata": {},
   "source": [
    "This operations can also be performed without erasing the node memory using the `with_state` context manager:"
   ]
  },
  {
   "cell_type": "code",
   "execution_count": null,
   "id": "569f95ff",
   "metadata": {},
   "outputs": [],
   "source": [
    "previous_states = reservoir.run(X)\n",
    "\n",
    "with reservoir.with_state(reset=True):\n",
    "    states_from_null = reservoir.run(X)\n",
    "    \n",
    "# as if the with_state never happened!\n",
    "states_from_previous = reservoir.run(X) "
   ]
  },
  {
   "cell_type": "markdown",
   "id": "9fea0d5c",
   "metadata": {},
   "source": [
    "Everything happening inside the context manager will be erased when exiting it. The last state computed in `previous_states` is thus still available when computing `states_from_previous`, although the internal states was temporarily reset to 0 to compute `states_from_null`.\n",
    "\n",
    "These features allow to easily keep track of internal activations of nodes like reservoir, to modify them or to store them for later."
   ]
  },
  {
   "cell_type": "markdown",
   "id": "53a9ee08",
   "metadata": {},
   "source": [
    "## Create a readout\n",
    "\n",
    "Readouts works the same way as reservoirs. Internally, they are the same type of object, a *node*, and thus expose the same interface as described above: they have a call and a `run()` method, a `state()` (even if they are not necessarily a recurrent network), and so on.\n",
    "\n",
    "However, *offline readouts* such as readouts trained with linear regression are not really initialized at first call, like the reservoir. They need to be **fitted**: the connections going from the reservoir to the readout neurons need to be learned from data.\n",
    "\n",
    "Our first readout will be a simple [`Ridge` readout](https://reservoirpy.readthedocs.io/en/latest/api/generated/reservoirpy.nodes.Ridge.html#reservoirpy.nodes.Ridge), which can solve a task using linear regression.\n",
    "\n",
    "With set the `ridge` parameter of the readout to $10^{-7}$. This is the *regularization*, an hyperparameter that will help avoid overfitting.\n",
    "\n",
    "Note that we do not necessarily need to specify the number of output neurons in advance in a readout. It can be inferred at training time, and will be set to match the dimension of the teacher vectors."
   ]
  },
  {
   "cell_type": "code",
   "execution_count": null,
   "id": "c7977e65",
   "metadata": {},
   "outputs": [],
   "source": [
    "from reservoirpy.nodes import Ridge\n",
    "\n",
    "readout = Ridge(ridge=1e-7)"
   ]
  },
  {
   "cell_type": "markdown",
   "id": "569d76df",
   "metadata": {},
   "source": [
    "## Define a training task\n",
    "\n",
    "Nodes like `Ridge` can be trained using their `fit()` method. This method takes as input two timeseries: a input timeseries and a target timeseries. During training, the readout will have to create a mapping from inputs to targets to solve a specific task: for instance, map a timestep $t$ of a timeseries to its timestep $t+1$. This would solve a one-timestep-ahead prediction task: from data at time $t$, predict data at time $t+1$.\n",
    "\n",
    "For the sake of example, let's solve this one-timestep-ahead prediction task. Given the sine wave defined above, can we predict its behavior in advance?\n",
    "\n",
    "To learn this task, we create a copy of the timeseries $X$ shifted by one timestep, to obtain a target timeseries."
   ]
  },
  {
   "cell_type": "code",
   "execution_count": null,
   "id": "35a4c6dd",
   "metadata": {},
   "outputs": [],
   "source": [
    "X_train = X[:50]\n",
    "Y_train = X[1:51]\n",
    "\n",
    "plt.figure(figsize=(10, 3))\n",
    "plt.title(\"A sine wave and its future.\")\n",
    "plt.xlabel(\"$t$\")\n",
    "plt.plot(X_train, label=\"sin(t)\", color=\"blue\")\n",
    "plt.plot(Y_train, label=\"sin(t+1)\", color=\"red\")\n",
    "plt.legend()\n",
    "plt.show()"
   ]
  },
  {
   "cell_type": "markdown",
   "id": "e0005000",
   "metadata": {},
   "source": [
    "Given any point in the blue wave, we seek to predict the corresponding point in the red wave."
   ]
  },
  {
   "cell_type": "markdown",
   "id": "c400b533",
   "metadata": {},
   "source": [
    "## Train the readout\n",
    "\n",
    "While this is not the recommended way of using a readout node, let's train it as a standalone node.\n",
    "Our `Ridge` readout can be trained on `train_states` and `Y_train`, where `train_states` are the activations of the reservoir triggered by `X_train`.\n",
    "\n",
    "First, we compute `train_states` using the `run()` method."
   ]
  },
  {
   "cell_type": "code",
   "execution_count": null,
   "id": "4b0a587f",
   "metadata": {},
   "outputs": [],
   "source": [
    "train_states = reservoir.run(X_train, reset=True)"
   ]
  },
  {
   "cell_type": "markdown",
   "id": "71948a2e",
   "metadata": {},
   "source": [
    "Then, we train the readout using `fit()`. We use the `warmup` parameter to set the amount of timesteps we want to discard at the beginning of `train_states`, when training. Indeed, as the internal state of the reservoir is recurrently updated but start to a null value, it takes time before this state is representative of the input data."
   ]
  },
  {
   "cell_type": "code",
   "execution_count": null,
   "id": "6204e5bd",
   "metadata": {},
   "outputs": [],
   "source": [
    "readout = readout.fit(train_states, Y_train, warmup=10)"
   ]
  },
  {
   "cell_type": "markdown",
   "id": "7f1ca9e8",
   "metadata": {},
   "source": [
    "In the plot below, we can see training was successful: our readout is trying to predict the sine next value!\n",
    "\n",
    "These results are not really impressive: a sine wave is easy to predict, and our readout still makes some mistakes. However, remember that we used only 50 timesteps of data to train that readout (40 actually, when discounting the 10 warmup steps). Reservoir and readouts together can obviously solve more complicated tasks, such as speech recognition or chaotic timeseries forecasting."
   ]
  },
  {
   "cell_type": "code",
   "execution_count": null,
   "id": "0f14e836",
   "metadata": {},
   "outputs": [],
   "source": [
    "test_states = reservoir.run(X[50:])\n",
    "Y_pred = readout.run(test_states)\n",
    "\n",
    "plt.figure(figsize=(10, 3))\n",
    "plt.title(\"A sine wave and its future.\")\n",
    "plt.xlabel(\"$t$\")\n",
    "plt.plot(Y_pred, label=\"Predicted sin(t)\", color=\"blue\")\n",
    "plt.plot(X[51:], label=\"Real sin(t+1)\", color=\"red\")\n",
    "plt.legend()\n",
    "plt.show()"
   ]
  },
  {
   "cell_type": "markdown",
   "id": "ec71215d",
   "metadata": {},
   "source": [
    "## Create the ESN model\n",
    "\n",
    "Now that we have created a readout and a reservoir, and that we have seen how to run and train them, let's connect them to create an ESN. This section describes the \"canonical\" method for creating and training ESNs.\n",
    "\n",
    "In ReservoirPy, connecting nodes together leads to the creation of `Model` objects. Models are a specific type of node containing other nodes, and a description of all the connections between them. When run, a Model will run all the nodes it contains, and make the data follow their declared connections. When trained, it will also take care of training all its readouts.\n",
    "\n",
    "An ESN is a very simple type of Model, containing two nodes: a reservoir and a readout. When run, an ESN Model will first run the reservoir, feed the reservoir activations to the readout and run the readout on them.\n",
    "\n",
    "To declare connections between nodes and build a model, use the `>>` operator:"
   ]
  },
  {
   "cell_type": "code",
   "execution_count": null,
   "id": "8e239675",
   "metadata": {},
   "outputs": [],
   "source": [
    "from reservoirpy.nodes import Reservoir, Ridge\n",
    "\n",
    "reservoir = Reservoir(100, lr=0.5, sr=0.9)\n",
    "ridge = Ridge(ridge=1e-7)\n",
    "\n",
    "esn_model = reservoir >> ridge"
   ]
  },
  {
   "cell_type": "markdown",
   "id": "9f1afa75",
   "metadata": {},
   "source": [
    "## Train the ESN"
   ]
  },
  {
   "cell_type": "markdown",
   "id": "ee6bcb0b",
   "metadata": {},
   "source": [
    "Once the Model is created, it can be trained using its `fit()` method:"
   ]
  },
  {
   "cell_type": "code",
   "execution_count": null,
   "id": "0e20a00b",
   "metadata": {},
   "outputs": [],
   "source": [
    "esn_model = esn_model.fit(X_train, Y_train, warmup=10)"
   ]
  },
  {
   "cell_type": "markdown",
   "id": "28bb58fd",
   "metadata": {},
   "source": [
    "You can check that this method has initialized all nodes in the Model, and trained the `Ridge` readout."
   ]
  },
  {
   "cell_type": "code",
   "execution_count": null,
   "id": "b21adb35",
   "metadata": {},
   "outputs": [],
   "source": [
    "print(reservoir.is_initialized, readout.is_initialized, readout.fitted)"
   ]
  },
  {
   "cell_type": "markdown",
   "id": "4d634747",
   "metadata": {},
   "source": [
    "## Run the ESN"
   ]
  },
  {
   "cell_type": "markdown",
   "id": "5c161fbf",
   "metadata": {},
   "source": [
    "We can then run the model on unseen next values on the timeseries to evaluate it, as shown below."
   ]
  },
  {
   "cell_type": "code",
   "execution_count": null,
   "id": "19136529",
   "metadata": {},
   "outputs": [],
   "source": [
    "Y_pred = esn_model.run(X[50:])\n",
    "\n",
    "plt.figure(figsize=(10, 3))\n",
    "plt.title(\"A sine wave and its future.\")\n",
    "plt.xlabel(\"$t$\")\n",
    "plt.plot(Y_pred, label=\"Predicted sin(t+1)\", color=\"blue\")\n",
    "plt.plot(X[51:], label=\"Real sin(t+1)\", color=\"red\")\n",
    "plt.legend()\n",
    "plt.show()"
   ]
  }
 ],
 "metadata": {},
 "nbformat": 4,
 "nbformat_minor": 5
}
