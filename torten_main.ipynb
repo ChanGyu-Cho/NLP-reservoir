{
 "cells": [
  {
   "cell_type": "code",
   "execution_count": 6,
   "metadata": {},
   "outputs": [],
   "source": [
    "import numpy as np\n",
    "from reservoirpy.nodes import Reservoir, Ridge, Input\n",
    "from sklearn.model_selection import train_test_split\n",
    "from sklearn.feature_extraction.text import TfidfVectorizer\n",
    "from sklearn.metrics import accuracy_score\n",
    "\n",
    "# 1단계: 데이터 전처리\n",
    "# 예시 한글 리뷰 데이터 (여기에 실제 리뷰 데이터를 넣으세요)\n",
    "reviews = [\n",
    "    \"이 제품 정말 좋아요!\",\n",
    "    \"별로에요, 다시는 사고 싶지 않아요.\",\n",
    "    \"정말 최고예요, 추천합니다!\",\n",
    "    \"가격 대비 실망스러워요.\",\n",
    "    \"완전 대박이에요, 강력 추천합니다!\"\n",
    "]\n",
    "\n",
    "# 해당 감정 레이블 (1은 긍정, 0은 부정)\n",
    "labels = [1, 0, 1, 0, 1]\n",
    "\n",
    "\n"
   ]
  },
  {
   "cell_type": "code",
   "execution_count": 7,
   "metadata": {},
   "outputs": [],
   "source": [
    "# 텍스트 데이터를 TF-IDF로 벡터화\n",
    "vectorizer = TfidfVectorizer()\n",
    "X = vectorizer.fit_transform(reviews).toarray()  # 텍스트를 수치 벡터로 변환\n",
    "y = np.array(labels)\n",
    "\n",
    "# 2단계: 학습 데이터와 테스트 데이터 분할\n",
    "X_train, X_test, y_train, y_test = train_test_split(X, y, test_size=0.2, random_state=42)"
   ]
  },
  {
   "cell_type": "code",
   "execution_count": 8,
   "metadata": {},
   "outputs": [],
   "source": [
    "# 3단계: 저수지 컴퓨팅 모델 생성\n",
    "input_dim = X_train.shape[1]  # 입력 데이터의 차원 (특징의 수)\n",
    "reservoir = Reservoir(100, lr=0.3, sr=1.1)  # 100개의 유닛을 가진 저수지\n",
    "readout = Ridge(output_dim=1, ridge=1e-6)  # 읽기 아웃 계층\n",
    "\n",
    "# 모델 파이프라인 구성\n",
    "esn = Input(input_dim=input_dim) >> reservoir >> readout\n"
   ]
  },
  {
   "cell_type": "code",
   "execution_count": 11,
   "metadata": {},
   "outputs": [
    {
     "name": "stderr",
     "output_type": "stream",
     "text": [
      "Running Model-3: 4it [00:00, 3998.38it/s]             \n",
      "Running Model-3: 100%|██████████| 1/1 [00:00<00:00, 83.34it/s]"
     ]
    },
    {
     "name": "stdout",
     "output_type": "stream",
     "text": [
      "Fitting node Ridge-1...\n"
     ]
    },
    {
     "name": "stderr",
     "output_type": "stream",
     "text": [
      "\n"
     ]
    },
    {
     "data": {
      "text/plain": [
       "'Model-3': Model('Input-1', 'Reservoir-1', 'Ridge-1')"
      ]
     },
     "execution_count": 11,
     "metadata": {},
     "output_type": "execute_result"
    }
   ],
   "source": [
    "# 4단계: 모델 학습\n",
    "esn.fit(X_train, y_train.reshape(-1, 1))  # y_train의 형태를 (N, 1)로 맞춰줍니다."
   ]
  },
  {
   "cell_type": "code",
   "execution_count": 12,
   "metadata": {},
   "outputs": [
    {
     "name": "stderr",
     "output_type": "stream",
     "text": [
      "Running Model-3: 100%|██████████| 1/1 [00:00<00:00, 996.04it/s]"
     ]
    },
    {
     "name": "stdout",
     "output_type": "stream",
     "text": [
      "정확도: 100.00%\n"
     ]
    },
    {
     "name": "stderr",
     "output_type": "stream",
     "text": [
      "\n"
     ]
    }
   ],
   "source": [
    "# 5단계: 모델 테스트\n",
    "predictions = esn.run(X_test)\n",
    "predictions = predictions > 0.5  # 연속적인 출력을 0 또는 1로 이진화\n",
    "\n",
    "# 6단계: 성능 평가\n",
    "accuracy = accuracy_score(y_test, predictions)\n",
    "print(f\"정확도: {accuracy * 100:.2f}%\")"
   ]
  }
 ],
 "metadata": {
  "kernelspec": {
   "display_name": "base",
   "language": "python",
   "name": "python3"
  },
  "language_info": {
   "codemirror_mode": {
    "name": "ipython",
    "version": 3
   },
   "file_extension": ".py",
   "mimetype": "text/x-python",
   "name": "python",
   "nbconvert_exporter": "python",
   "pygments_lexer": "ipython3",
   "version": "3.12.3"
  }
 },
 "nbformat": 4,
 "nbformat_minor": 2
}
